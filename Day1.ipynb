{
 "cells": [
  {
   "cell_type": "code",
   "execution_count": 7,
   "id": "ec24b5c0-c05b-4b9f-932d-a20ffc354ae9",
   "metadata": {},
   "outputs": [
    {
     "name": "stdout",
     "output_type": "stream",
     "text": [
      "Hello, students!\n"
     ]
    }
   ],
   "source": [
    "def hi(name):\n",
    "    return f\"Hello, {name}!\"\n",
    "print(hi(\"students\"))"
   ]
  },
  {
   "cell_type": "code",
   "execution_count": 9,
   "id": "85d01b42-3ce7-4719-ad68-9e4e40a7e87b",
   "metadata": {},
   "outputs": [
    {
     "name": "stdout",
     "output_type": "stream",
     "text": [
      "5\n",
      "15\n"
     ]
    }
   ],
   "source": [
    "#default parameters\n",
    "def a(x,y=1):\n",
    "    return x*y\n",
    "print(a(5))\n",
    "print(a(5,3))"
   ]
  },
  {
   "cell_type": "code",
   "execution_count": 11,
   "id": "c5a997b2-1828-4d26-b34f-1645daeaab48",
   "metadata": {},
   "outputs": [
    {
     "name": "stdout",
     "output_type": "stream",
     "text": [
      "30\n",
      "100\n"
     ]
    }
   ],
   "source": [
    "# functions with var arguments\n",
    "def sumnum(*args):\n",
    "    return sum(args)\n",
    "print(sumnum(20,10))\n",
    "print(sumnum(10,40,50))"
   ]
  },
  {
   "cell_type": "code",
   "execution_count": 13,
   "id": "cab59675-8c76-4f79-b6c9-1a97990bfc3f",
   "metadata": {},
   "outputs": [
    {
     "name": "stdout",
     "output_type": "stream",
     "text": [
      "name:indu\n",
      "age:19\n",
      "city:Guntur\n"
     ]
    }
   ],
   "source": [
    "#function with keyword arguments\n",
    "def info(**kwargs):\n",
    "    for key,value in kwargs.items():\n",
    "        print(f\"{key}:{value}\")\n",
    "info(name='indu',age=19,city=\"Guntur\")"
   ]
  },
  {
   "cell_type": "code",
   "execution_count": 15,
   "id": "004340a5-4947-4d8e-ab75-154aa99a4929",
   "metadata": {},
   "outputs": [
    {
     "name": "stdout",
     "output_type": "stream",
     "text": [
      "16\n",
      "14\n"
     ]
    }
   ],
   "source": [
    "# lambda function\n",
    "sq = lambda a:a*a\n",
    "print(sq(4))\n",
    "add = lambda x, y:x+y\n",
    "print(add(5,9))"
   ]
  },
  {
   "cell_type": "code",
   "execution_count": 21,
   "id": "c70ee3a3-3c2a-45c3-b770-745f5554d446",
   "metadata": {},
   "outputs": [
    {
     "name": "stdout",
     "output_type": "stream",
     "text": [
      "min:1, max:5, average:3.0\n"
     ]
    }
   ],
   "source": [
    "#write a program to return multiple values\n",
    "#min, max,avg by passing 1,2,3,4,5 to a function\n",
    "def values(numbers):\n",
    "    return min(numbers),max(numbers),sum(numbers)/len(numbers)\n",
    "min_val, max_val, avg = values([1,2,3,4,5])\n",
    "print(f\"min:{min_val}, max:{max_val}, average:{avg}\")"
   ]
  },
  {
   "cell_type": "code",
   "execution_count": null,
   "id": "44e270c1-f1bc-4aab-9e82-c790eb5351bd",
   "metadata": {},
   "outputs": [],
   "source": [
    "def input(**kwargs):\n",
    "    for key,value in kwargs.items:\n",
    "        print(f\"{key}:{value}\")\n",
    "min_val, max_val, avg = input(1,2,3,4,5)\n",
    "print(min(numbers),max(numbers),sum(numbers)/len(numbers)\n"
   ]
  },
  {
   "cell_type": "markdown",
   "id": "013268cb-c217-4d68-bd7d-83e850556dba",
   "metadata": {},
   "source": [
    "Recursions: Direct, indirect, head/non tail, tail, linear, binary, multiple, nested , mutual, divide and conquer, tree, absolute/static"
   ]
  },
  {
   "cell_type": "code",
   "execution_count": 28,
   "id": "6ef62c55-04a8-417e-a6c5-d16739d9eeac",
   "metadata": {},
   "outputs": [
    {
     "name": "stdout",
     "output_type": "stream",
     "text": [
      "120\n"
     ]
    }
   ],
   "source": [
    "#recursive fact(direct)\n",
    "def fact(n):\n",
    "    if n==0 or n==1:\n",
    "        return 1\n",
    "    return n*fact(n-1)\n",
    "print(fact(5))"
   ]
  },
  {
   "cell_type": "code",
   "execution_count": 32,
   "id": "6e47ebba-96f6-4f9e-a57b-39cc54952c8f",
   "metadata": {},
   "outputs": [
    {
     "name": "stdout",
     "output_type": "stream",
     "text": [
      "True\n",
      "True\n"
     ]
    }
   ],
   "source": [
    "#recursive(in-direct)\n",
    "def is_even(n):\n",
    "    if n==0:\n",
    "        return True\n",
    "    return is_odd(n-1)\n",
    "def is_odd(n):\n",
    "    if n==0:\n",
    "        return False\n",
    "    return is_even(n-1)\n",
    "print(is_even(4))\n",
    "print(is_odd(7))"
   ]
  },
  {
   "cell_type": "markdown",
   "id": "89135953-212a-4f3b-a746-632c41f64988",
   "metadata": {},
   "source": [
    "Create a program to determine if a string is a palindrome by recursively comparing characters from start to end by base case function and call if the pointer meets its palindrome constraints:\n",
    "def is_palindrome length\n",
    "def check_palindrome start,end,s\n",
    "input:\n",
    "racecar = True\n",
    "hello = False\n",
    "level = True\n"
   ]
  },
  {
   "cell_type": "code",
   "execution_count": 36,
   "id": "de833c77-d1d9-4ab3-ab97-3d1bda4652c5",
   "metadata": {},
   "outputs": [
    {
     "name": "stdout",
     "output_type": "stream",
     "text": [
      "True\n",
      "False\n",
      "True\n"
     ]
    }
   ],
   "source": [
    "def is_palindrome(n):\n",
    "    if len(n)<= 1:\n",
    "        return True\n",
    "    return check_palindrome(n,0,len(n)-1)\n",
    "def check_palindrome(n,start,end):\n",
    "    if start>=end:\n",
    "        return True\n",
    "    if n[start]!= n[end]:\n",
    "        return False\n",
    "    return is_palindrome(n[start+1:end])\n",
    "print(is_palindrome(\"racecar\"))\n",
    "print(is_palindrome(\"hello\"))\n",
    "print(is_palindrome(\"level\"))\n"
   ]
  },
  {
   "cell_type": "code",
   "execution_count": 38,
   "id": "1f06fe2d-6e08-4b97-a1af-1b38f5526528",
   "metadata": {},
   "outputs": [
    {
     "name": "stdout",
     "output_type": "stream",
     "text": [
      "120\n"
     ]
    }
   ],
   "source": [
    "def ftail(n, acc=1):\n",
    "    if n==0 or n==1:\n",
    "        return acc\n",
    "    return ftail(n-1, n*acc)\n",
    "print(ftail(5))"
   ]
  },
  {
   "cell_type": "code",
   "execution_count": 43,
   "id": "0e91611e-e044-4634-81b9-2848dfc0c2ab",
   "metadata": {},
   "outputs": [
    {
     "name": "stdout",
     "output_type": "stream",
     "text": [
      "5\n"
     ]
    }
   ],
   "source": [
    " def ackermann(m,n):\n",
    "     if m==0:\n",
    "         return n+1\n",
    "     elif m>0 and n==0:\n",
    "         return ackermann(m-1,1)\n",
    "     else:\n",
    "         return ackermann(m-1, ackermann(m,n-1))\n",
    "print(ackermann(2,1))"
   ]
  },
  {
   "cell_type": "code",
   "execution_count": null,
   "id": "6f1bed83-be22-489f-aa0a-b0152f9d57f6",
   "metadata": {},
   "outputs": [],
   "source": [
    "def countdown(n):\n",
    "    if n<=0:\n",
    "        return 0\n",
    "    else:\n",
    "        print(f\"countdown({n}) -> countdown(countdown({n-1})\")\n",
    "        return countdown(countdown(\n",
    "    "
   ]
  },
  {
   "cell_type": "code",
   "execution_count": 47,
   "id": "6ac37bf3-98bb-4c22-a803-7146354354a4",
   "metadata": {},
   "outputs": [
    {
     "name": "stdout",
     "output_type": "stream",
     "text": [
      "50\n"
     ]
    }
   ],
   "source": [
    "def func(n):\n",
    "    if n>50:\n",
    "        return n-5\n",
    "    else:\n",
    "        return func(n+5)\n",
    "print(func(30))"
   ]
  },
  {
   "cell_type": "code",
   "execution_count": 51,
   "id": "cc94fb80-f664-48f4-8ec5-6b16c65cbc69",
   "metadata": {},
   "outputs": [
    {
     "name": "stdout",
     "output_type": "stream",
     "text": [
      "288\n",
      "12\n"
     ]
    }
   ],
   "source": [
    "#super factorial\n",
    "def sfact(n):\n",
    "    if n<=0:\n",
    "        return 1\n",
    "    return fact(n)*sfact(n-1)\n",
    "def fact(n):\n",
    "    if n<=1:\n",
    "        return 1\n",
    "    return n*fact(n-1)\n",
    "print(sfact(4))\n",
    "print(sfact(3))"
   ]
  },
  {
   "cell_type": "code",
   "execution_count": 53,
   "id": "704b3510-70ed-455f-b7aa-537fbcb8ce48",
   "metadata": {},
   "outputs": [
    {
     "name": "stdout",
     "output_type": "stream",
     "text": [
      "16\n",
      "27\n"
     ]
    }
   ],
   "source": [
    "#power tower - nested recursion\n",
    "def pt(a, n):\n",
    "    if n==1:\n",
    "        return a\n",
    "    return a**pt(a, n-1)\n",
    "print(pt(2,3))\n",
    "print(pt(3,2))"
   ]
  },
  {
   "cell_type": "code",
   "execution_count": null,
   "id": "71deb29c-1227-4e00-8963-14bba6da26fc",
   "metadata": {},
   "outputs": [],
   "source": []
  }
 ],
 "metadata": {
  "kernelspec": {
   "display_name": "Python 3 (ipykernel)",
   "language": "python",
   "name": "python3"
  },
  "language_info": {
   "codemirror_mode": {
    "name": "ipython",
    "version": 3
   },
   "file_extension": ".py",
   "mimetype": "text/x-python",
   "name": "python",
   "nbconvert_exporter": "python",
   "pygments_lexer": "ipython3",
   "version": "3.12.7"
  }
 },
 "nbformat": 4,
 "nbformat_minor": 5
}
